{
 "metadata": {
  "name": "LeeFilter Testing"
 },
 "nbformat": 3,
 "nbformat_minor": 0,
 "worksheets": [
  {
   "cells": [
    {
     "cell_type": "code",
     "collapsed": false,
     "input": [
      "import numpy as np\n",
      "from scipy import misc\n",
      "import LeeFilter\n",
      "lena=misc.lena()\n",
      "lena=lena.astype(np.float)\n",
      "%timeit LeeFilter.LeeFilter(lena, N=7)"
     ],
     "language": "python",
     "metadata": {},
     "outputs": [
      {
       "output_type": "stream",
       "stream": "stdout",
       "text": [
        "10 loops, best of 3: 128 ms per loop"
       ]
      }
     ],
     "prompt_number": 1
    },
    {
     "cell_type": "code",
     "collapsed": false,
     "input": [
      "from scipy import misc\n",
      "from scipy.ndimage.filters import uniform_filter as boxcar\n",
      "lena=misc.lena()\n",
      "lena=lena.astype(np.float)\n",
      "%timeit boxcar(lena, (7,7))"
     ],
     "language": "python",
     "metadata": {},
     "outputs": [
      {
       "output_type": "stream",
       "stream": "stdout",
       "text": [
        "100 loops, best of 3: 10.9 ms per loop"
       ]
      }
     ],
     "prompt_number": 2
    },
    {
     "cell_type": "code",
     "collapsed": true,
     "input": [
      "from matplotlib import pyplot as plt\n",
      "lee_smoothed = LeeFilter.LeeFilter(lena, N=7)\n",
      "#plt.imshow(smoothed, cmap=plt.cm.gray)\n",
      "#plt.show()"
     ],
     "language": "python",
     "metadata": {},
     "outputs": [],
     "prompt_number": 17
    },
    {
     "cell_type": "code",
     "collapsed": true,
     "input": [
      "from matplotlib import pyplot as plt\n",
      "from scipy.ndimage.filters import uniform_filter as boxcar\n",
      "box_smoothed = boxcar(lena, (7,7))\n",
      "#plt.imshow(smoothed, cmap=plt.cm.gray)\n",
      "#plt.show()"
     ],
     "language": "python",
     "metadata": {},
     "outputs": [],
     "prompt_number": 18
    },
    {
     "cell_type": "code",
     "collapsed": false,
     "input": [
      "import scipy.ndimage as ndimage\n",
      "sobel_smoothed = ndimage.sobel(lena)"
     ],
     "language": "python",
     "metadata": {},
     "outputs": [],
     "prompt_number": 46
    },
    {
     "cell_type": "code",
     "collapsed": false,
     "input": [
      "plt.subplot(231)\n",
      "plt.imshow(lee_smoothed, cmap=plt.cm.gray)\n",
      "plt.title(\"Lee Filter\")\n",
      "plt.axis('off')\n",
      "\n",
      "plt.subplot(232)\n",
      "plt.imshow(box_smoothed, cmap=plt.cm.gray)\n",
      "plt.title(\"Boxcar Filter\")\n",
      "plt.axis('off')\n",
      "\n",
      "plt.subplot(233)\n",
      "plt.imshow(lee_smoothed - box_smoothed, cmap=plt.cm.gray)\n",
      "plt.title(\"Lee - Boxcar\")\n",
      "plt.axis('off')\n",
      "\n",
      "plt.subplot(234)\n",
      "plt.imshow(lena + 20*(lee_smoothed - box_smoothed), cmap=plt.cm.gray)\n",
      "plt.title(\"Lena + Lee - Box\")\n",
      "plt.axis('off')\n",
      "\n",
      "plt.subplot(235)\n",
      "plt.imshow(sobel_smoothed, cmap=plt.cm.gray)\n",
      "plt.title(\"Sobel\")\n",
      "plt.axis('off')\n",
      "\n",
      "plt.subplot(236)\n",
      "plt.imshow(lena, cmap=plt.cm.gray)\n",
      "plt.title(\"Original\")\n",
      "plt.axis('off')\n",
      "\n",
      "\n",
      "\n",
      "plt.show()"
     ],
     "language": "python",
     "metadata": {},
     "outputs": [],
     "prompt_number": 47
    },
    {
     "cell_type": "code",
     "collapsed": true,
     "input": [],
     "language": "python",
     "metadata": {},
     "outputs": [],
     "prompt_number": "&nbsp;"
    }
   ],
   "metadata": {}
  }
 ]
}