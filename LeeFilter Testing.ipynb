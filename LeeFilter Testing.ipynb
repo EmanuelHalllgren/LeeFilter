{
 "metadata": {
  "name": "LeeFilter Testing"
 }, 
 "nbformat": 2, 
 "worksheets": [
  {
   "cells": [
    {
     "cell_type": "code", 
     "collapsed": false, 
     "input": [
      "import numpy as np", 
      "from scipy import misc", 
      "import LeeFilter", 
      "lena=misc.lena()", 
      "lena=lena.astype(np.float)", 
      "%timeit LeeFilter.LeeFilter(lena, N=7)"
     ], 
     "language": "python", 
     "outputs": [
      {
       "output_type": "stream", 
       "stream": "stdout", 
       "text": [
        "10 loops, best of 3: 128 ms per loop"
       ]
      }
     ], 
     "prompt_number": 1
    }, 
    {
     "cell_type": "code", 
     "collapsed": false, 
     "input": [
      "from scipy import misc", 
      "from scipy.ndimage.filters import uniform_filter as boxcar", 
      "lena=misc.lena()", 
      "lena=lena.astype(np.float)", 
      "%timeit boxcar(lena, (7,7))"
     ], 
     "language": "python", 
     "outputs": [
      {
       "output_type": "stream", 
       "stream": "stdout", 
       "text": [
        "100 loops, best of 3: 10.9 ms per loop"
       ]
      }
     ], 
     "prompt_number": 2
    }, 
    {
     "cell_type": "code", 
     "collapsed": true, 
     "input": [
      "from matplotlib import pyplot as plt", 
      "lee_smoothed = LeeFilter.LeeFilter(lena, N=7)", 
      "#plt.imshow(smoothed, cmap=plt.cm.gray)", 
      "#plt.show()"
     ], 
     "language": "python", 
     "outputs": [], 
     "prompt_number": 17
    }, 
    {
     "cell_type": "code", 
     "collapsed": true, 
     "input": [
      "from matplotlib import pyplot as plt", 
      "from scipy.ndimage.filters import uniform_filter as boxcar", 
      "box_smoothed = boxcar(lena, (7,7))", 
      "#plt.imshow(smoothed, cmap=plt.cm.gray)", 
      "#plt.show()"
     ], 
     "language": "python", 
     "outputs": [], 
     "prompt_number": 18
    }, 
    {
     "cell_type": "code", 
     "collapsed": false, 
     "input": [
      "import scipy.ndimage as ndimage", 
      "sobel_smoothed = ndimage.sobel(lena)"
     ], 
     "language": "python", 
     "outputs": [], 
     "prompt_number": 46
    }, 
    {
     "cell_type": "code", 
     "collapsed": false, 
     "input": [
      "plt.subplot(231)", 
      "plt.imshow(lee_smoothed, cmap=plt.cm.gray)", 
      "plt.title(\"Lee Filter\")", 
      "plt.axis('off')", 
      "", 
      "plt.subplot(232)", 
      "plt.imshow(box_smoothed, cmap=plt.cm.gray)", 
      "plt.title(\"Boxcar Filter\")", 
      "plt.axis('off')", 
      "", 
      "plt.subplot(233)", 
      "plt.imshow(lee_smoothed - box_smoothed, cmap=plt.cm.gray)", 
      "plt.title(\"Lee - Boxcar\")", 
      "plt.axis('off')", 
      "", 
      "plt.subplot(234)", 
      "plt.imshow(lena + 20*(lee_smoothed - box_smoothed), cmap=plt.cm.gray)", 
      "plt.title(\"Lena + Lee - Box\")", 
      "plt.axis('off')", 
      "", 
      "plt.subplot(235)", 
      "plt.imshow(sobel_smoothed, cmap=plt.cm.gray)", 
      "plt.title(\"Sobel\")", 
      "plt.axis('off')", 
      "", 
      "plt.subplot(236)", 
      "plt.imshow(lena, cmap=plt.cm.gray)", 
      "plt.title(\"Original\")", 
      "plt.axis('off')", 
      "", 
      "", 
      "", 
      "plt.show()"
     ], 
     "language": "python", 
     "outputs": [], 
     "prompt_number": 47
    }, 
    {
     "cell_type": "code", 
     "collapsed": true, 
     "input": [], 
     "language": "python", 
     "outputs": [], 
     "prompt_number": "&nbsp;"
    }
   ]
  }
 ]
}